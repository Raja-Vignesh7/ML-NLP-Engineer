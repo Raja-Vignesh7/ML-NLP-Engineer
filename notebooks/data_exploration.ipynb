{
 "cells": [
  {
   "cell_type": "markdown",
   "id": "d3a6791c",
   "metadata": {},
   "source": [
    "# Import Dataset"
   ]
  },
  {
   "cell_type": "code",
   "execution_count": null,
   "id": "72d2e64b",
   "metadata": {},
   "outputs": [],
   "source": [
    "import transformers\n",
    "import pandas as pd\n",
    "import numpy as np"
   ]
  },
  {
   "cell_type": "code",
   "execution_count": null,
   "id": "eeb2d0ea",
   "metadata": {},
   "outputs": [
    {
     "name": "stdout",
     "output_type": "stream",
     "text": [
      "<class 'pandas.core.frame.DataFrame'>\n",
      "RangeIndex: 201151 entries, 0 to 201150\n",
      "Data columns (total 5 columns):\n",
      " #   Column       Non-Null Count   Dtype \n",
      "---  ------       --------------   ----- \n",
      " 0   id           201151 non-null  int64 \n",
      " 1   app_id       201151 non-null  int64 \n",
      " 2   content      200723 non-null  object\n",
      " 3   author_id    201151 non-null  int64 \n",
      " 4   is_positive  201151 non-null  object\n",
      "dtypes: int64(3), object(2)\n",
      "memory usage: 7.7+ MB\n"
     ]
    }
   ],
   "source": [
    "dataset = pd.read_csv('/kaggle/input/steam-reviews/output.csv')\n",
    "dataset.info()"
   ]
  },
  {
   "cell_type": "code",
   "execution_count": null,
   "id": "da007e1a",
   "metadata": {},
   "outputs": [],
   "source": [
    "dataset.dropna(subset=['content','is_positive'],inplace=True)"
   ]
  },
  {
   "cell_type": "code",
   "execution_count": null,
   "id": "5da51dd9",
   "metadata": {},
   "outputs": [
    {
     "name": "stdout",
     "output_type": "stream",
     "text": [
      "<class 'pandas.core.frame.DataFrame'>\n",
      "Index: 200723 entries, 0 to 201150\n",
      "Data columns (total 5 columns):\n",
      " #   Column       Non-Null Count   Dtype \n",
      "---  ------       --------------   ----- \n",
      " 0   id           200723 non-null  int64 \n",
      " 1   app_id       200723 non-null  int64 \n",
      " 2   content      200723 non-null  object\n",
      " 3   author_id    200723 non-null  int64 \n",
      " 4   is_positive  200723 non-null  object\n",
      "dtypes: int64(3), object(2)\n",
      "memory usage: 9.2+ MB\n"
     ]
    }
   ],
   "source": [
    "dataset.info()"
   ]
  },
  {
   "cell_type": "code",
   "execution_count": null,
   "id": "a74ae124",
   "metadata": {},
   "outputs": [
    {
     "name": "stderr",
     "output_type": "stream",
     "text": [
      "[nltk_data] Downloading package stopwords to /usr/share/nltk_data...\n",
      "[nltk_data]   Package stopwords is already up-to-date!\n",
      "[nltk_data] Downloading package words to /usr/share/nltk_data...\n",
      "[nltk_data]   Package words is already up-to-date!\n",
      "[nltk_data] Downloading package punkt to /usr/share/nltk_data...\n",
      "[nltk_data]   Package punkt is already up-to-date!\n",
      "[nltk_data] Downloading package punkt_tab to /usr/share/nltk_data...\n",
      "[nltk_data]   Package punkt_tab is already up-to-date!\n"
     ]
    }
   ],
   "source": [
    "import string\n",
    "from nltk.corpus import stopwords,words\n",
    "from nltk.tokenize import word_tokenize\n",
    "import nltk\n",
    "\n",
    "nltk.download('stopwords')\n",
    "nltk.download('words')\n",
    "nltk.download('punkt')\n",
    "nltk.download('punkt_tab')\n",
    "stop_words = set(stopwords.words('english'))  # List of common stopwords\n",
    "punctuation = string.punctuation  # List of punctuation\n",
    "valid_words = set(words.words())  "
   ]
  },
  {
   "cell_type": "markdown",
   "id": "4d9e5beb",
   "metadata": {},
   "source": [
    "# Text Data EDA"
   ]
  },
  {
   "cell_type": "code",
   "execution_count": null,
   "id": "1509ff10",
   "metadata": {},
   "outputs": [],
   "source": [
    "import matplotlib.pyplot as plt\n",
    "class EDA_text:\n",
    "\n",
    "    def __init__(self, df):\n",
    "        self.df_copy = df.copy()\n",
    "\n",
    "    def count_words(self):\n",
    "        try:\n",
    "            word_count = []\n",
    "            for index, row in self.df_copy.iterrows():\n",
    "                if len(row['content']) == 0:\n",
    "                    print(f\"index: {index}, row: {row}\")\n",
    "                count = len(row['content'].split(\" \"))\n",
    "                word_count.append(count)\n",
    "            self.df_copy['word_count'] = word_count\n",
    "        except Exception as e:\n",
    "            print(f'error: {e}')\n",
    "\n",
    "    def check_valid_token(self):\n",
    "        try:\n",
    "            processed_content = []\n",
    "            stop_invalid_words = []\n",
    "\n",
    "            for index, row in self.df_copy.iterrows():\n",
    "                text = row['content']\n",
    "\n",
    "                if not isinstance(text, str):\n",
    "                    processed_content.append([])\n",
    "                    stop_invalid_words.append([])\n",
    "                    continue\n",
    "\n",
    "                text_data = text.lower()\n",
    "\n",
    "                text_data = ''.join([char for char in text_data if char not in punctuation])\n",
    "\n",
    "                words = word_tokenize(text_data)\n",
    "\n",
    "                valid_tokens = [word for word in words if word not in stop_words or word in valid_words]\n",
    "                stop_invalid = [word for word in words if word in stop_words or word not in valid_words]\n",
    "\n",
    "                processed_content.append(valid_tokens)\n",
    "                stop_invalid_words.append(stop_invalid)\n",
    "\n",
    "            self.df_copy['process_content'] = processed_content\n",
    "            self.df_copy['stop_words'] = stop_invalid_words\n",
    "            self.df_copy['tokens_count'] = self.df_copy['process_content'].apply(len)\n",
    "            self.df_copy['stop_word_count'] = self.df_copy['stop_words'].apply(len)\n",
    "\n",
    "        except Exception as e:\n",
    "            print(f'error: {e}')\n",
    "\n",
    "    def do_EDA(self):\n",
    "        print(\"Starting EDA for the given text data\")\n",
    "        print(\"Started calculating content length per row\")\n",
    "        self.df_copy['content_length'] = self.df_copy['content'].apply(len)\n",
    "        print(\"completed calculating content length\")\n",
    "        print(\"Starting word count per row\")\n",
    "        self.count_words()\n",
    "        print(\"completed word count\")\n",
    "        print(\"Starting valid token checker\")\n",
    "        self.check_valid_token()\n",
    "        print(\"completed valid token checker\")\n",
    "        print('displaying results')\n",
    "\n",
    "        plt.figure(figsize=(10, 10))\n",
    "\n",
    "        plt.subplot(2, 2, 1)\n",
    "        plt.title(\"Content length\")\n",
    "        plt.hist(self.df_copy['content_length'], bins=100, rwidth=0.8, color='b', log=True)\n",
    "        plt.xlabel('content length')\n",
    "        plt.ylabel('no of rows')\n",
    "        \n",
    "        plt.subplot(2, 2, 2)\n",
    "        plt.title(\"Word count\")\n",
    "        plt.hist(self.df_copy['word_count'], bins=100, rwidth=0.8, color='g', log=True)\n",
    "        plt.xlabel('Word counts')\n",
    "        plt.ylabel('No of rows')\n",
    "        \n",
    "        plt.subplot(2, 2, 3)\n",
    "        plt.title(\"Possible valid tokens count\")\n",
    "        plt.hist(self.df_copy['tokens_count'], bins=100, rwidth=0.8, color='g', log=True)\n",
    "        plt.xlabel('no of valid token')\n",
    "        plt.ylabel('no of rows')\n",
    "\n",
    "        plt.subplot(2, 2, 4)\n",
    "        plt.title(\"Stop words and invalid count\")\n",
    "        plt.hist(self.df_copy['stop_word_count'], bins=100, rwidth=0.8, color='b', log=True)\n",
    "        plt.xlabel('no of stop words and invalid words')\n",
    "        plt.ylabel('no of rows')\n",
    "\n",
    "        plt.tight_layout()\n",
    "        plt.show()\n",
    "\n",
    "        display(self.df_copy.describe())\n",
    "        display(self.df_copy.info())"
   ]
  },
  {
   "cell_type": "code",
   "execution_count": null,
   "id": "270a2bae",
   "metadata": {},
   "outputs": [
    {
     "name": "stdout",
     "output_type": "stream",
     "text": [
      "Starting EDA for the given text data\n",
      "Started calculating content length per row\n",
      "completed calculating content length\n",
      "Starting word count per row\n",
      "completed word count\n",
      "Starting valid token checker\n",
      "completed valid token checker\n",
      "displaying results\n"
     ]
    },
    {
     "data": {
      "image/png": "[encoded data removed]",
      "text/plain": [
       "<Figure size 1000x1000 with 4 Axes>"
      ]
     },
     "metadata": {},
     "output_type": "display_data"
    },
    {
     "data": {
      "text/html": [
       "<div>\n",
       "<style scoped>\n",
       "    .dataframe tbody tr th:only-of-type {\n",
       "        vertical-align: middle;\n",
       "    }\n",
       "\n",
       "    .dataframe tbody tr th {\n",
       "        vertical-align: top;\n",
       "    }\n",
       "\n",
       "    .dataframe thead th {\n",
       "        text-align: right;\n",
       "    }\n",
       "</style>\n",
       "<table border=\"1\" class=\"dataframe\">\n",
       "  <thead>\n",
       "    <tr style=\"text-align: right;\">\n",
       "      <th></th>\n",
       "      <th>id</th>\n",
       "      <th>app_id</th>\n",
       "      <th>author_id</th>\n",
       "      <th>content_length</th>\n",
       "      <th>word_count</th>\n",
       "      <th>tokens_count</th>\n",
       "      <th>stop_word_count</th>\n",
       "    </tr>\n",
       "  </thead>\n",
       "  <tbody>\n",
       "    <tr>\n",
       "      <th>count</th>\n",
       "      <td>2.007230e+05</td>\n",
       "      <td>200723.000000</td>\n",
       "      <td>2.007230e+05</td>\n",
       "      <td>200723.000000</td>\n",
       "      <td>200723.000000</td>\n",
       "      <td>200723.000000</td>\n",
       "      <td>200723.000000</td>\n",
       "    </tr>\n",
       "    <tr>\n",
       "      <th>mean</th>\n",
       "      <td>1.224236e+08</td>\n",
       "      <td>452.955326</td>\n",
       "      <td>7.656120e+16</td>\n",
       "      <td>143.123035</td>\n",
       "      <td>24.924388</td>\n",
       "      <td>25.078506</td>\n",
       "      <td>15.140846</td>\n",
       "    </tr>\n",
       "    <tr>\n",
       "      <th>std</th>\n",
       "      <td>5.897882e+07</td>\n",
       "      <td>322.262057</td>\n",
       "      <td>5.422832e+08</td>\n",
       "      <td>1044.805167</td>\n",
       "      <td>65.925959</td>\n",
       "      <td>66.285660</td>\n",
       "      <td>41.922125</td>\n",
       "    </tr>\n",
       "    <tr>\n",
       "      <th>min</th>\n",
       "      <td>2.090000e+02</td>\n",
       "      <td>10.000000</td>\n",
       "      <td>7.656120e+16</td>\n",
       "      <td>1.000000</td>\n",
       "      <td>1.000000</td>\n",
       "      <td>0.000000</td>\n",
       "      <td>0.000000</td>\n",
       "    </tr>\n",
       "    <tr>\n",
       "      <th>25%</th>\n",
       "      <td>7.281209e+07</td>\n",
       "      <td>240.000000</td>\n",
       "      <td>7.656120e+16</td>\n",
       "      <td>15.000000</td>\n",
       "      <td>3.000000</td>\n",
       "      <td>3.000000</td>\n",
       "      <td>1.000000</td>\n",
       "    </tr>\n",
       "    <tr>\n",
       "      <th>50%</th>\n",
       "      <td>1.479517e+08</td>\n",
       "      <td>440.000000</td>\n",
       "      <td>7.656120e+16</td>\n",
       "      <td>41.000000</td>\n",
       "      <td>8.000000</td>\n",
       "      <td>8.000000</td>\n",
       "      <td>4.000000</td>\n",
       "    </tr>\n",
       "    <tr>\n",
       "      <th>75%</th>\n",
       "      <td>1.690358e+08</td>\n",
       "      <td>620.000000</td>\n",
       "      <td>7.656120e+16</td>\n",
       "      <td>115.000000</td>\n",
       "      <td>21.000000</td>\n",
       "      <td>21.000000</td>\n",
       "      <td>13.000000</td>\n",
       "    </tr>\n",
       "    <tr>\n",
       "      <th>max</th>\n",
       "      <td>1.822350e+08</td>\n",
       "      <td>1930.000000</td>\n",
       "      <td>7.656120e+16</td>\n",
       "      <td>419580.000000</td>\n",
       "      <td>3992.000000</td>\n",
       "      <td>3994.000000</td>\n",
       "      <td>3994.000000</td>\n",
       "    </tr>\n",
       "  </tbody>\n",
       "</table>\n",
       "</div>"
      ],
      "text/plain": [
       "                 id         app_id     author_id  content_length  \\\n",
       "count  2.007230e+05  200723.000000  2.007230e+05   200723.000000   \n",
       "mean   1.224236e+08     452.955326  7.656120e+16      143.123035   \n",
       "std    5.897882e+07     322.262057  5.422832e+08     1044.805167   \n",
       "min    2.090000e+02      10.000000  7.656120e+16        1.000000   \n",
       "25%    7.281209e+07     240.000000  7.656120e+16       15.000000   \n",
       "50%    1.479517e+08     440.000000  7.656120e+16       41.000000   \n",
       "75%    1.690358e+08     620.000000  7.656120e+16      115.000000   \n",
       "max    1.822350e+08    1930.000000  7.656120e+16   419580.000000   \n",
       "\n",
       "          word_count   tokens_count  stop_word_count  \n",
       "count  200723.000000  200723.000000    200723.000000  \n",
       "mean       24.924388      25.078506        15.140846  \n",
       "std        65.925959      66.285660        41.922125  \n",
       "min         1.000000       0.000000         0.000000  \n",
       "25%         3.000000       3.000000         1.000000  \n",
       "50%         8.000000       8.000000         4.000000  \n",
       "75%        21.000000      21.000000        13.000000  \n",
       "max      3992.000000    3994.000000      3994.000000  "
      ]
     },
     "metadata": {},
     "output_type": "display_data"
    },
    {
     "name": "stdout",
     "output_type": "stream",
     "text": [
      "<class 'pandas.core.frame.DataFrame'>\n",
      "Index: 200723 entries, 0 to 201150\n",
      "Data columns (total 11 columns):\n",
      " #   Column           Non-Null Count   Dtype \n",
      "---  ------           --------------   ----- \n",
      " 0   id               200723 non-null  int64 \n",
      " 1   app_id           200723 non-null  int64 \n",
      " 2   content          200723 non-null  object\n",
      " 3   author_id        200723 non-null  int64 \n",
      " 4   is_positive      200723 non-null  object\n",
      " 5   content_length   200723 non-null  int64 \n",
      " 6   word_count       200723 non-null  int64 \n",
      " 7   process_content  200723 non-null  object\n",
      " 8   stop_words       200723 non-null  object\n",
      " 9   tokens_count     200723 non-null  int64 \n",
      " 10  stop_word_count  200723 non-null  int64 \n",
      "dtypes: int64(7), object(4)\n",
      "memory usage: 18.4+ MB\n"
     ]
    },
    {
     "data": {
      "text/plain": [
       "None"
      ]
     },
     "metadata": {},
     "output_type": "display_data"
    }
   ],
   "source": [
    "EDA = EDA_text(dataset)\n",
    "EDA.do_EDA()"
   ]
  }
 ],
 "metadata": {
  "language_info": {
   "name": "python"
  }
 },
 "nbformat": 4,
 "nbformat_minor": 5
}
